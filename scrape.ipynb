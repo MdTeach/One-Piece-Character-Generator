{
 "cells": [
  {
   "cell_type": "code",
   "execution_count": 123,
   "metadata": {},
   "outputs": [],
   "source": [
    "from bs4 import BeautifulSoup\n",
    "import requests"
   ]
  },
  {
   "cell_type": "code",
   "execution_count": 124,
   "metadata": {},
   "outputs": [],
   "source": [
    "url = \"https://onepiece.fandom.com/wiki/List_of_Canon_Characters\"\n",
    "page = requests.get(url)"
   ]
  },
  {
   "cell_type": "code",
   "execution_count": 125,
   "metadata": {},
   "outputs": [],
   "source": [
    "soup = BeautifulSoup(page.text,features=\"lxml\")\n",
    "soup.find_all('table',class_='wikitable sortable')\n",
    "table = soup.select(\"table\")[0]\n",
    "tr = table.select(\"tr\")\n",
    "tr = tr[2:]"
   ]
  },
  {
   "cell_type": "code",
   "execution_count": 126,
   "metadata": {},
   "outputs": [
    {
     "name": "stdout",
     "output_type": "stream",
     "text": [
      "1123 datas read!!\n"
     ]
    }
   ],
   "source": [
    "#helper finc\n",
    "def filterWord(name):\n",
    "    #parenthesis check\n",
    "    r =  name.find('(')\n",
    "    if r != -1:\n",
    "        name = name[:r].strip()\n",
    "    if name[:3] == 'mr.' or name[:4] == 'miss':\n",
    "        return False\n",
    "    return name\n",
    "\n",
    "names = []\n",
    "for d in tr:\n",
    "    text = d.select(\"td\")[1].text\n",
    "    filtered_txt = filterWord(text.lower().strip())\n",
    "    if filtered_txt:\n",
    "        names.append(filtered_txt)\n",
    "print(len(names),\"datas read!!\")        "
   ]
  },
  {
   "cell_type": "code",
   "execution_count": 128,
   "metadata": {},
   "outputs": [],
   "source": [
    "#write to csv\n",
    "import csv\n",
    "with open('names.csv', 'w', newline='') as file:\n",
    "    for name in names:\n",
    "        writer = csv.writer(file)\n",
    "        writer.writerow([name])"
   ]
  },
  {
   "cell_type": "code",
   "execution_count": null,
   "metadata": {},
   "outputs": [],
   "source": []
  }
 ],
 "metadata": {
  "kernelspec": {
   "display_name": "Python 3",
   "language": "python",
   "name": "python3"
  },
  "language_info": {
   "codemirror_mode": {
    "name": "ipython",
    "version": 3
   },
   "file_extension": ".py",
   "mimetype": "text/x-python",
   "name": "python",
   "nbconvert_exporter": "python",
   "pygments_lexer": "ipython3",
   "version": "3.7.6"
  }
 },
 "nbformat": 4,
 "nbformat_minor": 4
}
