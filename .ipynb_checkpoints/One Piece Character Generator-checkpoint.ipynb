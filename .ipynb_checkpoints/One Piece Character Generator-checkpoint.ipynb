{
 "cells": [
  {
   "cell_type": "markdown",
   "metadata": {},
   "source": [
    "### <u>One Piece Character Gen - Character Level LSTM</u>"
   ]
  },
  {
   "cell_type": "code",
   "execution_count": 1,
   "metadata": {},
   "outputs": [],
   "source": [
    "import numpy as np\n",
    "import torch\n",
    "from torch import nn\n",
    "import torch.nn.functional as F"
   ]
  },
  {
   "cell_type": "markdown",
   "metadata": {},
   "source": [
    "### Data Processing:"
   ]
  },
  {
   "cell_type": "code",
   "execution_count": 2,
   "metadata": {},
   "outputs": [
    {
     "name": "stdout",
     "output_type": "stream",
     "text": [
      "abdullah\n",
      "absalom\n",
      "acilia\n",
      "adele\n",
      "\n"
     ]
    }
   ],
   "source": [
    "# open text file and read in data as `text`\n",
    "with open('names.csv', 'r') as f:\n",
    "    text = f.read()\n",
    "#show some names:\n",
    "print(text[:30])"
   ]
  },
  {
   "cell_type": "code",
   "execution_count": 3,
   "metadata": {},
   "outputs": [
    {
     "name": "stdout",
     "output_type": "stream",
     "text": [
      "mountain ricky\n",
      "chesskippa\n",
      "cott\n"
     ]
    }
   ],
   "source": [
    "#shuffle the names\n",
    "import random\n",
    "names = text.split('\\n')\n",
    "random.shuffle(names)\n",
    "text = \"\\n\".join(names)\n",
    "\n",
    "#show some names:\n",
    "print(text[:30])"
   ]
  },
  {
   "cell_type": "code",
   "execution_count": 4,
   "metadata": {},
   "outputs": [
    {
     "name": "stdout",
     "output_type": "stream",
     "text": [
      "40 unique chars\n",
      "Encoded text: [ 0  1 18 11  3  6 20 11 16 37]\n"
     ]
    }
   ],
   "source": [
    "chars = tuple(set(text))\n",
    "int2char = dict(enumerate(chars))\n",
    "char2int = {ch: ii for ii, ch in int2char.items()}\n",
    "\n",
    "# encode the text\n",
    "encoded = np.array([char2int[ch] for ch in text])\n",
    "print(\"{} unique chars\".format(len(chars)))\n",
    "print(\"Encoded text:\",encoded[:10])"
   ]
  },
  {
   "cell_type": "code",
   "execution_count": 5,
   "metadata": {},
   "outputs": [
    {
     "name": "stdout",
     "output_type": "stream",
     "text": [
      "[[[1. 0. 0.]\n",
      "  [0. 1. 0.]\n",
      "  [0. 0. 1.]]]\n"
     ]
    }
   ],
   "source": [
    "def one_hot_encode(arr, n_labels):\n",
    "    # Initialize the the encoded array\n",
    "    one_hot = np.zeros((np.multiply(*arr.shape), n_labels), dtype=np.float32)\n",
    "    # Fill the appropriate elements with ones\n",
    "    one_hot[np.arange(one_hot.shape[0]), arr.flatten()] = 1.\n",
    "    # Finally reshape it to get back to the original array\n",
    "    one_hot = one_hot.reshape((*arr.shape, n_labels))\n",
    "    return one_hot\n",
    "\n",
    "#eg:\n",
    "test_seq = np.array([[0, 1, 2]])\n",
    "one_hot = one_hot_encode(test_seq, 3)\n",
    "print(one_hot)"
   ]
  },
  {
   "cell_type": "markdown",
   "metadata": {},
   "source": [
    "### Batch Maker"
   ]
  },
  {
   "cell_type": "code",
   "execution_count": 37,
   "metadata": {},
   "outputs": [
    {
     "name": "stdout",
     "output_type": "stream",
     "text": [
      "x:\n",
      " [[ 0  1 18 11  3]\n",
      " [18 36  2  4 15]\n",
      " [17 17  6  4 13]\n",
      " [ 2 13 22 22 25]]\n",
      "y:\n",
      " [[ 1 18 11  3  6]\n",
      " [36  2  4 15  6]\n",
      " [17  6  4 13  2]\n",
      " [13 22 22 25 17]]\n"
     ]
    }
   ],
   "source": [
    "def get_batches(arr,batch_size,seq_length):\n",
    "    \"\"\"\n",
    "    Creates the generator that reutrns batch data for `arr` list\n",
    "    of `batch_size` having `seq_lenght`.\n",
    "    \"\"\"\n",
    "    num_data_per_epoch = batch_size*seq_length\n",
    "    possible_batches = len(arr)//num_data_per_epoch\n",
    "    \n",
    "    #trim array to possible bathces\n",
    "    arr = arr[:possible_batches*num_data_per_epoch]\n",
    "    \n",
    "    #reshae to batch first dim\n",
    "    arr = arr.reshape(batch_size,-1)\n",
    "    \n",
    "    #yeild one sequence in each interation\n",
    "    for i in range(0,arr.shape[1],seq_length):\n",
    "        # The features\n",
    "        x = arr[:, i:i+seq_length]\n",
    "        # The targets, shifted by one\n",
    "        y = np.zeros_like(x)\n",
    "        try:\n",
    "            y[:, :-1], y[:, -1] = x[:, 1:], arr[:, i+seq_length]\n",
    "        except IndexError:\n",
    "            y[:, :-1], y[:, -1] = x[:, 1:], arr[:, 0]\n",
    "        yield x, y\n",
    "\n",
    "#test batch_size:4 seq_length:5:\n",
    "batches = get_batches(encoded, 4, 5)\n",
    "x, y = next(batches)\n",
    "\n",
    "print(\"x:\\n\",x)\n",
    "print(\"y:\\n\",y)"
   ]
  },
  {
   "cell_type": "markdown",
   "metadata": {},
   "source": [
    "### Defining the NN model"
   ]
  },
  {
   "cell_type": "code",
   "execution_count": 38,
   "metadata": {},
   "outputs": [],
   "source": [
    "class NetWork(nn.Module):\n",
    "    def __init__(self,tokens,n_hidden=256,n_layers=1,drop_prob=0.5,lr=0.001):\n",
    "        super().__init__()\n",
    "        self.drop_prob = drop_prob\n",
    "        self.n_layers = n_layers\n",
    "        self.n_hidden = n_hidden\n",
    "        self.lr = lr\n",
    "        \n",
    "        # creating character dictionaries\n",
    "        self.chars = tokens\n",
    "        self.int2char = dict(enumerate(self.chars))\n",
    "        self.char2int = {ch: ii for ii, ch in self.int2char.items()}\n",
    "        \n",
    "        #defining NN\n",
    "        self.lstm = nn.LSTM(\n",
    "            len(tokens),\n",
    "            n_hidden,\n",
    "            n_layers,\n",
    "            dropout=drop_prob,\n",
    "            batch_first=True\n",
    "        )\n",
    "        self.drop = nn.Dropout(p=self.drop_prob)\n",
    "        self.fcn = nn.Linear(n_hidden, len(tokens))\n",
    "    \n",
    "    def forward(self,x,hidden):\n",
    "        r_out,hidden = self.lstm(x,hidden)\n",
    "        out = self.drop(r_out)\n",
    "        out = out.contiguous().view(-1, self.n_hidden)\n",
    "        out = self.fcn(out)\n",
    "        \n",
    "        # return the final output and the hidden state\n",
    "        return out, hidden\n",
    "    \n",
    "    def init_hidden(self, batch_size):\n",
    "        ''' Initializes hidden state '''\n",
    "        # Create two new tensors with sizes n_layers x batch_size x n_hidden,\n",
    "        # initialized to zero, for hidden state and cell state of LSTM\n",
    "        weight = next(self.parameters()).data\n",
    "        \n",
    "        if (train_on_gpu):\n",
    "            hidden = (weight.new(self.n_layers, batch_size, self.n_hidden).zero_().cuda(),\n",
    "                  weight.new(self.n_layers, batch_size, self.n_hidden).zero_().cuda())\n",
    "        else:\n",
    "            hidden = (weight.new(self.n_layers, batch_size, self.n_hidden).zero_(),\n",
    "                      weight.new(self.n_layers, batch_size, self.n_hidden).zero_())\n",
    "        \n",
    "        return hidden\n",
    "        "
   ]
  },
  {
   "cell_type": "markdown",
   "metadata": {},
   "source": [
    "### Training the model"
   ]
  },
  {
   "cell_type": "code",
   "execution_count": 39,
   "metadata": {},
   "outputs": [
    {
     "name": "stdout",
     "output_type": "stream",
     "text": [
      "Training on GPU :D\n"
     ]
    }
   ],
   "source": [
    "# check if GPU is available\n",
    "train_on_gpu = torch.cuda.is_available()\n",
    "if(train_on_gpu):\n",
    "    print('Training on GPU :D')\n",
    "else: \n",
    "    print('No GPU available :(, training on CPU; consider making n_epochs very small.')"
   ]
  },
  {
   "cell_type": "code",
   "execution_count": 85,
   "metadata": {},
   "outputs": [],
   "source": [
    "def train(net, data, epochs=10, batch_size=10, seq_length=50, lr=0.001, clip=5, val_frac=0.1, print_every=10):\n",
    "    ''' Training a network \n",
    "    \n",
    "        Arguments\n",
    "        ---------\n",
    "        \n",
    "        net: CharRNN network\n",
    "        data: text data to train the network\n",
    "        epochs: Number of epochs to train\n",
    "        batch_size: Number of mini-sequences per mini-batch, aka batch size\n",
    "        seq_length: Number of character steps per mini-batch\n",
    "        lr: learning rate\n",
    "        clip: gradient clipping\n",
    "        val_frac: Fraction of data to hold out for validation\n",
    "        print_every: Number of steps for printing training and validation loss\n",
    "    \n",
    "    '''\n",
    "    net.train()\n",
    "    \n",
    "    opt = torch.optim.Adam(net.parameters(), lr=lr)\n",
    "    criterion = nn.CrossEntropyLoss()\n",
    "    \n",
    "    # create training and validation data\n",
    "    val_idx = int(len(data)*(1-val_frac))\n",
    "    data, val_data = data[:val_idx], data[val_idx:]\n",
    "    \n",
    "    if(train_on_gpu):\n",
    "        net.cuda()\n",
    "    \n",
    "    counter = 0\n",
    "    n_chars = len(net.chars)\n",
    "    for e in range(epochs):\n",
    "        # initialize hidden state\n",
    "        h = net.init_hidden(batch_size)\n",
    "        \n",
    "        for x, y in get_batches(data, batch_size, seq_length):\n",
    "            counter += 1\n",
    "            \n",
    "            # One-hot encode our data and make them Torch tensors\n",
    "            x = one_hot_encode(x, n_chars)\n",
    "            inputs, targets = torch.from_numpy(x), torch.from_numpy(y)\n",
    "            \n",
    "            if(train_on_gpu):\n",
    "                inputs, targets = inputs.cuda(), targets.cuda()\n",
    "\n",
    "            # Creating new variables for the hidden state, otherwise\n",
    "            # we'd backprop through the entire training history\n",
    "            h = tuple([each.data for each in h])\n",
    "\n",
    "            # zero accumulated gradients\n",
    "            net.zero_grad()\n",
    "            \n",
    "            # get the output from the model\n",
    "            output, h = net(inputs, h)\n",
    "            \n",
    "            # calculate the loss and perform backprop\n",
    "            loss = criterion(output, targets.view(batch_size*seq_length))\n",
    "            loss.backward()\n",
    "            # `clip_grad_norm` helps prevent the exploding gradient problem in RNNs / LSTMs.\n",
    "            nn.utils.clip_grad_norm_(net.parameters(), clip)\n",
    "            opt.step()\n",
    "            \n",
    "            # loss stats\n",
    "            if counter % print_every == 0:\n",
    "                # Get validation loss\n",
    "                val_h = net.init_hidden(batch_size)\n",
    "                val_losses = []\n",
    "                net.eval()\n",
    "                for x, y in get_batches(val_data, batch_size, seq_length):\n",
    "                    # One-hot encode our data and make them Torch tensors\n",
    "                    x = one_hot_encode(x, n_chars)\n",
    "                    x, y = torch.from_numpy(x), torch.from_numpy(y)\n",
    "                    \n",
    "                    # Creating new variables for the hidden state, otherwise\n",
    "                    # we'd backprop through the entire training history\n",
    "                    val_h = tuple([each.data for each in val_h])\n",
    "                    \n",
    "                    inputs, targets = x, y\n",
    "                    if(train_on_gpu):\n",
    "                        inputs, targets = inputs.cuda(), targets.cuda()\n",
    "\n",
    "                    output, val_h = net(inputs, val_h)\n",
    "                    val_loss = criterion(output, targets.view(batch_size*seq_length))\n",
    "                \n",
    "                    val_losses.append(val_loss.item())\n",
    "                \n",
    "                net.train() # reset to train mode after iterationg through validation data\n",
    "                \n",
    "                print(\"Epoch: {}/{}...\".format(e+1, epochs),\n",
    "                      \"Step: {}...\".format(counter),\n",
    "                      \"Loss: {:.4f}...\".format(loss.item()),\n",
    "                      \"Val Loss: {:.4f}\".format(np.mean(val_losses)))"
   ]
  },
  {
   "cell_type": "code",
   "execution_count": 90,
   "metadata": {},
   "outputs": [
    {
     "name": "stdout",
     "output_type": "stream",
     "text": [
      "NetWork(\n",
      "  (lstm): LSTM(40, 256, num_layers=2, batch_first=True, dropout=0.5)\n",
      "  (drop): Dropout(p=0.5, inplace=False)\n",
      "  (fcn): Linear(in_features=256, out_features=40, bias=True)\n",
      ")\n"
     ]
    }
   ],
   "source": [
    "# define and print the net\n",
    "n_hidden=256\n",
    "n_layers=2\n",
    "\n",
    "net = NetWork(chars, n_hidden, n_layers)\n",
    "print(net)"
   ]
  },
  {
   "cell_type": "code",
   "execution_count": 91,
   "metadata": {},
   "outputs": [
    {
     "name": "stdout",
     "output_type": "stream",
     "text": [
      "Epoch: 1/40... Step: 50... Loss: 3.0630... Val Loss: 3.0946\n",
      "Epoch: 2/40... Step: 100... Loss: 3.0337... Val Loss: 3.0847\n",
      "Epoch: 3/40... Step: 150... Loss: 2.9860... Val Loss: 3.0300\n",
      "Epoch: 4/40... Step: 200... Loss: 2.8987... Val Loss: 2.8582\n",
      "Epoch: 5/40... Step: 250... Loss: 2.7619... Val Loss: 2.6551\n",
      "Epoch: 6/40... Step: 300... Loss: 2.7437... Val Loss: 2.5597\n",
      "Epoch: 7/40... Step: 350... Loss: 2.6643... Val Loss: 2.5082\n",
      "Epoch: 8/40... Step: 400... Loss: 2.5533... Val Loss: 2.4828\n",
      "Epoch: 9/40... Step: 450... Loss: 2.2478... Val Loss: 2.4558\n",
      "Epoch: 10/40... Step: 500... Loss: 2.4630... Val Loss: 2.4316\n",
      "Epoch: 11/40... Step: 550... Loss: 2.4654... Val Loss: 2.4207\n",
      "Epoch: 12/40... Step: 600... Loss: 2.3428... Val Loss: 2.4144\n",
      "Epoch: 13/40... Step: 650... Loss: 2.2106... Val Loss: 2.4070\n",
      "Epoch: 14/40... Step: 700... Loss: 2.1490... Val Loss: 2.4071\n",
      "Epoch: 15/40... Step: 750... Loss: 2.0739... Val Loss: 2.3983\n",
      "Epoch: 16/40... Step: 800... Loss: 2.3760... Val Loss: 2.3973\n",
      "Epoch: 17/40... Step: 850... Loss: 2.5002... Val Loss: 2.3959\n",
      "Epoch: 18/40... Step: 900... Loss: 2.4113... Val Loss: 2.3996\n",
      "Epoch: 19/40... Step: 950... Loss: 2.1079... Val Loss: 2.4069\n",
      "Epoch: 20/40... Step: 1000... Loss: 2.4104... Val Loss: 2.3847\n",
      "Epoch: 21/40... Step: 1050... Loss: 2.1297... Val Loss: 2.3999\n",
      "Epoch: 22/40... Step: 1100... Loss: 2.0478... Val Loss: 2.3965\n",
      "Epoch: 23/40... Step: 1150... Loss: 2.0763... Val Loss: 2.3872\n",
      "Epoch: 24/40... Step: 1200... Loss: 2.2329... Val Loss: 2.3799\n",
      "Epoch: 25/40... Step: 1250... Loss: 2.1687... Val Loss: 2.3836\n",
      "Epoch: 26/40... Step: 1300... Loss: 2.1796... Val Loss: 2.3910\n",
      "Epoch: 27/40... Step: 1350... Loss: 1.9805... Val Loss: 2.3983\n",
      "Epoch: 28/40... Step: 1400... Loss: 2.2999... Val Loss: 2.4013\n",
      "Epoch: 29/40... Step: 1450... Loss: 2.2503... Val Loss: 2.4342\n",
      "Epoch: 30/40... Step: 1500... Loss: 2.2626... Val Loss: 2.4233\n",
      "Epoch: 31/40... Step: 1550... Loss: 1.9417... Val Loss: 2.4256\n",
      "Epoch: 32/40... Step: 1600... Loss: 2.0749... Val Loss: 2.4532\n",
      "Epoch: 33/40... Step: 1650... Loss: 2.0014... Val Loss: 2.4634\n",
      "Epoch: 34/40... Step: 1700... Loss: 2.0503... Val Loss: 2.4588\n",
      "Epoch: 35/40... Step: 1750... Loss: 2.0844... Val Loss: 2.4447\n",
      "Epoch: 36/40... Step: 1800... Loss: 2.0035... Val Loss: 2.4561\n",
      "Epoch: 37/40... Step: 1850... Loss: 1.7861... Val Loss: 2.4900\n",
      "Epoch: 38/40... Step: 1900... Loss: 1.7534... Val Loss: 2.5194\n",
      "Epoch: 39/40... Step: 1950... Loss: 1.9919... Val Loss: 2.5190\n",
      "Epoch: 40/40... Step: 2000... Loss: 1.7178... Val Loss: 2.5225\n"
     ]
    }
   ],
   "source": [
    "train(net, encoded, epochs=40, batch_size=32, seq_length=5, lr=0.001, clip=5, val_frac=0.2, print_every=50)"
   ]
  },
  {
   "cell_type": "markdown",
   "metadata": {},
   "source": [
    "### Prediction"
   ]
  },
  {
   "cell_type": "code",
   "execution_count": 92,
   "metadata": {},
   "outputs": [],
   "source": [
    "def predict(net, char, h=None, top_k=None):\n",
    "        ''' Given a character, predict the next character.\n",
    "            Returns the predicted character and the hidden state.\n",
    "        '''\n",
    "        \n",
    "        # tensor inputs\n",
    "        x = np.array([[net.char2int[char]]])\n",
    "        x = one_hot_encode(x, len(net.chars))\n",
    "        inputs = torch.from_numpy(x)\n",
    "        \n",
    "        if(train_on_gpu):\n",
    "            inputs = inputs.cuda()\n",
    "        \n",
    "        # detach hidden state from history\n",
    "        h = tuple([each.data for each in h])\n",
    "        # get the output of the model\n",
    "        out, h = net(inputs, h)\n",
    "\n",
    "        # get the character probabilities\n",
    "        p = F.softmax(out, dim=1).data\n",
    "        if(train_on_gpu):\n",
    "            p = p.cpu() # move to cpu\n",
    "        \n",
    "        # get top characters\n",
    "        if top_k is None:\n",
    "            top_ch = np.arange(len(net.chars))\n",
    "        else:\n",
    "            p, top_ch = p.topk(top_k)\n",
    "            top_ch = top_ch.numpy().squeeze()\n",
    "        \n",
    "        # select the likely next character with some element of randomness\n",
    "        p = p.numpy().squeeze()\n",
    "        char = np.random.choice(top_ch, p=p/p.sum())\n",
    "        \n",
    "        # return the encoded value of the predicted char and the hidden state\n",
    "        return net.int2char[char], h"
   ]
  },
  {
   "cell_type": "code",
   "execution_count": 93,
   "metadata": {},
   "outputs": [],
   "source": [
    "def sample(net, size, prime='The', top_k=None):\n",
    "        \n",
    "    if(train_on_gpu):\n",
    "        net.cuda()\n",
    "    else:\n",
    "        net.cpu()\n",
    "    \n",
    "    net.eval() # eval mode\n",
    "    \n",
    "    # First off, run through the prime characters\n",
    "    chars = [ch for ch in prime]\n",
    "    h = net.init_hidden(1)\n",
    "    for ch in prime:\n",
    "        char, h = predict(net, ch, h, top_k=top_k)\n",
    "\n",
    "    chars.append(char)\n",
    "    \n",
    "    # Now pass in the previous character and get a new one\n",
    "    for ii in range(size):\n",
    "        char, h = predict(net, chars[-1], h, top_k=top_k)\n",
    "        chars.append(char)\n",
    "\n",
    "    return ''.join(chars)"
   ]
  },
  {
   "cell_type": "code",
   "execution_count": 134,
   "metadata": {},
   "outputs": [],
   "source": [
    "names = sample(net, 500, prime='bashyal', top_k=5)\n",
    "names = names.split(\"\\n\")"
   ]
  },
  {
   "cell_type": "code",
   "execution_count": 138,
   "metadata": {},
   "outputs": [
    {
     "name": "stdout",
     "output_type": "stream",
     "text": [
      "List of names generated from root word `bashyal`:\n",
      "\n",
      "bashyal\n",
      "kencho\n",
      "cosino\n",
      "haramam\n",
      "hangora devergo\n",
      "mottan mara\n",
      "sanjer\n",
      "korokun\n",
      "charlotte pock\n",
      "cannshiku karina\n",
      "chirot\n",
      "pansso\n",
      "charlottt hackbero\n",
      "charlotte pocanser\n",
      "charlotte perine\n",
      "karaka\n",
      "matsunento\n",
      "ponchoto\n",
      "banchan\n",
      "charlotte alemigaru\n",
      "dangon\n",
      "konjin\n",
      "misaro\n",
      "mineess\n",
      "chichas\n",
      "minite rashili\n",
      "teu charlotte motchat\n",
      "charlotte pragin\n",
      "charlotte braten rask\n",
      "charotte paromer\n",
      "anshi hatchi\n",
      "charlotte purash\n",
      "kamasun\n",
      "chardo\n"
     ]
    }
   ],
   "source": [
    "#printing the generated samples\n",
    "print(\"List of names generated from root word `bashyal`:\\n\")\n",
    "for name in names:\n",
    "    if len(name) > 5:\n",
    "        print(name)"
   ]
  },
  {
   "cell_type": "code",
   "execution_count": null,
   "metadata": {},
   "outputs": [],
   "source": []
  }
 ],
 "metadata": {
  "kernelspec": {
   "display_name": "Python 3",
   "language": "python",
   "name": "python3"
  },
  "language_info": {
   "codemirror_mode": {
    "name": "ipython",
    "version": 3
   },
   "file_extension": ".py",
   "mimetype": "text/x-python",
   "name": "python",
   "nbconvert_exporter": "python",
   "pygments_lexer": "ipython3",
   "version": "3.7.6"
  }
 },
 "nbformat": 4,
 "nbformat_minor": 4
}
